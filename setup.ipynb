{
 "cells": [
  {
   "cell_type": "markdown",
   "metadata": {
    "collapsed": true,
    "pycharm": {
     "name": "#%% md\n"
    }
   },
   "source": [
    "## Setup\n",
    "I have no idea why I didn't think of this sooner but Jupyter notebooks are fantastic for live streams. These files can contain a mix of markdown, HTML, and code blocks. You can run the code directly from within the notebook and there are several services, like [Google Colaboratory](https://colab.research.google.com/), where you can work together online.\n",
    "\n",
    "To get setup on your macOS system, I've found the following to be the easiest way;\n",
    "- install [Homebrew](https://brew.sh)\n",
    "- install Python 3.x\n",
    "- ```brew install python3```\n",
    "- install Jupyter\n",
    "- ```brew install jupyter```\n",
    "\n",
    "Jupyter ships with web UI that you can use in the browser, but I you can also use the new macOS native UI from JetBrains, [DataSpell](https://www.jetbrains.com/dataspell/)"
   ]
  },
  {
   "cell_type": "code",
   "execution_count": null,
   "metadata": {},
   "outputs": [],
   "source": []
  }
 ],
 "metadata": {
  "kernelspec": {
   "display_name": "Python 3 (ipykernel)",
   "language": "python",
   "name": "python3"
  },
  "language_info": {
   "codemirror_mode": {
    "name": "ipython",
    "version": 3
   },
   "file_extension": ".py",
   "mimetype": "text/x-python",
   "name": "python",
   "nbconvert_exporter": "python",
   "pygments_lexer": "ipython3",
   "version": "3.9.7"
  }
 },
 "nbformat": 4,
 "nbformat_minor": 1
}
